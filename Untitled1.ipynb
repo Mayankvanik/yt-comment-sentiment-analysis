{
  "cells": [
    {
      "cell_type": "code",
      "execution_count": 19,
      "metadata": {
        "id": "aweLdDlWaWBm"
      },
      "outputs": [],
      "source": [
        "# pip install faiss-cpu sentence-transformers pandas\n",
        "# !pip install PyPDF2\n"
      ]
    },
    {
      "cell_type": "code",
      "execution_count": 33,
      "metadata": {
        "id": "2uBiROdobFth"
      },
      "outputs": [],
      "source": [
        "import pandas as pd\n",
        "import faiss\n",
        "import numpy as np\n",
        "from sentence_transformers import SentenceTransformer\n",
        "from PyPDF2 import PdfReader\n",
        "\n",
        "def load_data_and_create_embeddings(file_path):\n",
        "  data = pd.read_csv(file_path)\n",
        "  model = SentenceTransformer('all-MiniLM-L6-v2')\n",
        "  data['embeddings'] = data['Resume'].apply(lambda x: model.encode(x, convert_to_tensor=True).tolist())\n",
        "  embedding_matrix = np.array(data['embeddings'].tolist()).astype('float32')\n",
        "  dimension = embedding_matrix.shape[1]\n",
        "  index = faiss.IndexFlatL2(dimension)\n",
        "  index.add(embedding_matrix)\n",
        "  return model,index,data"
      ]
    },
    {
      "cell_type": "code",
      "execution_count": 34,
      "metadata": {
        "id": "gy97UcKWcx_9"
      },
      "outputs": [],
      "source": [
        "\n",
        "def get_similar_resumes(query,model,index,data):\n",
        "  query_embedding = model.encode(query, convert_to_tensor=False).astype('float32')\n",
        "\n",
        "  k = 10\n",
        "  distances, indices = index.search(np.array([query_embedding]), k)\n",
        "  dict_resume={}\n",
        "  category_list=[]\n",
        "  resume_list=[]\n",
        "  for i, idx in enumerate(indices[0]):\n",
        "      category_list.append(data.iloc[idx]['Category'])\n",
        "      resume_list.append(data.iloc[idx]['Resume'])\n",
        "  dict_resume['Category']=category_list\n",
        "  dict_resume['Resume']=resume_list\n",
        "  return dict_resume\n",
        "\n"
      ]
    },
    {
      "cell_type": "code",
      "execution_count": 35,
      "metadata": {
        "id": "EQUlsGcicy-Z"
      },
      "outputs": [],
      "source": [
        "def extract_text_from_pdf(pdf_file_path):\n",
        "    reader = PdfReader(pdf_file_path)\n",
        "    text = \"\"\n",
        "    for page in reader.pages:\n",
        "        text += page.extract_text()\n",
        "    return text\n"
      ]
    },
    {
      "cell_type": "code",
      "execution_count": 36,
      "metadata": {
        "id": "oxTHP0c8n0NE"
      },
      "outputs": [],
      "source": [
        "model,index,data=load_data_and_create_embeddings(\"/content/sample_data/UpdatedResumeDataSet.csv\")"
      ]
    },
    {
      "cell_type": "code",
      "execution_count": 43,
      "metadata": {
        "id": "R6xMW5TWlT9z"
      },
      "outputs": [],
      "source": [
        "def main_process(pdf_resume_file_path,model,index,data):\n",
        "  query=jd\n",
        "  dict_res=get_similar_resumes(query,model,index,data)\n",
        "  df=pd.DataFrame(dict_res)\n",
        "  df.to_csv('/content/sample_data/similar_resumes.csv',index=False)"
      ]
    },
    {
      "cell_type": "code",
      "execution_count": 42,
      "metadata": {
        "id": "vU7UAwEoocrJ"
      },
      "outputs": [],
      "source": [
        "jd=\"\"\"\n",
        "Responsibilities:\n",
        "Developing and implementing UI components using React.js\n",
        "Collaborating with cross-functional teams to design and ship new features\n",
        "Building reusable components and front-end libraries for future use\n",
        "Translating designs and wireframes into high-quality code\n",
        "Optimizing components for maximum performance across various web browsers\n",
        "Staying up-to-date with the latest industry trends and technologies\n",
        "Troubleshooting and debugging issues to ensure smooth user experiences\n",
        "Participating in code reviews to maintain code quality and consistency\n",
        "Required React developer requirements, qualifications & skills:\n",
        "Proficiency in React.js and its core principles\n",
        "Strong JavaScript, HTML5, and CSS3 skills\n",
        "Experience with popular React.js workflows (such as Redux)\n",
        "Familiarity with RESTful APIs and integration\n",
        "Knowledge of modern authorization mechanisms, such as JSON Web Tokens\n",
        "Understanding of front-end build tools and pipelines\n",
        "Excellent problem-solving and communication skills\n",
        "A strong attention to detail, and a passion for delivering high-quality code\n",
        "Adaptability to changing project requirements and priorities\n",
        "Experience with version control systems (e.g., Git)\n",
        "A degree in computer science, software engineering, or a related field\n",
        "\"\"\""
      ]
    },
    {
      "cell_type": "code",
      "execution_count": null,
      "metadata": {
        "id": "dYCFnJlrqXMI"
      },
      "outputs": [],
      "source": []
    }
  ],
  "metadata": {
    "colab": {
      "provenance": [],
      "toc_visible": true
    },
    "kernelspec": {
      "display_name": "Python 3",
      "name": "python3"
    },
    "language_info": {
      "name": "python"
    }
  },
  "nbformat": 4,
  "nbformat_minor": 0
}
